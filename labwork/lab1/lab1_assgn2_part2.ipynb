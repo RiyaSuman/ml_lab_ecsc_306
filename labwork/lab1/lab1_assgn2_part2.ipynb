{
 "cells": [
  {
   "cell_type": "code",
   "execution_count": 2,
   "metadata": {},
   "outputs": [
    {
     "name": "stdout",
     "output_type": "stream",
     "text": [
      "876.421\n",
      "b'Actual values of Y:' [ 14.39000034  24.87000084  36.34000015  45.99000168]\n",
      "b'Predicted values of Y:' [ 1758.28027344  3204.28564453  4752.14208984  6409.0234375 ]\n"
     ]
    },
    {
     "data": {
      "image/png": "[encoded data removed]",
      "text/plain": [
       "<matplotlib.figure.Figure at 0x7f1da8069f60>"
      ]
     },
     "metadata": {},
     "output_type": "display_data"
    },
    {
     "name": "stdout",
     "output_type": "stream",
     "text": [
      "b'Root mean square error : ' 4355.36\n"
     ]
    }
   ],
   "source": [
    "##---------------------------------------part 2---------------------------\n",
    "## 1:- plotting graph between actual and predicted value of Y---------------------------\n",
    "\n",
    "import tensorflow as tf\n",
    "import matplotlib.pyplot as plt\n",
    "%matplotlib inline\n",
    "a= tf.constant([12.25,22.33,33.12,44.67],name=\"array_a\")\n",
    "b=tf.constant([14.39,24.87,36.34,45.99],name=\"array_b\")\n",
    "#covariance of x,y\n",
    "with tf.name_scope(\"mean\"):\n",
    "    x=tf.reduce_mean(a)\n",
    "    y=tf.reduce_mean(b)\n",
    "with tf.name_scope(\"covariance\"):\n",
    "    i=tf.subtract(a,x)\n",
    "    j=tf.subtract(b,y)\n",
    "    k=tf.multiply(i,j)\n",
    "    m=tf.reduce_mean(k)\n",
    "    l=tf.multiply(m,6)  #covariance of x,y\n",
    "with tf.name_scope(\"variance_of_x\"):\n",
    "#variance of x\n",
    "    g=tf.multiply(i,i)\n",
    "    h=tf.reduce_mean(g)\n",
    "    n=tf.multiply(h,6)   #variance of x\n",
    "\n",
    "with tf.name_scope(\"constant_value_c\"): \n",
    "    \n",
    "    c=tf.divide(l,n)\n",
    "    mul_a=tf.multiply(c,x)\n",
    "with tf.name_scope(\"constant_value_m\"):\n",
    "    \n",
    "    m_val=tf.subtract(y,mul_a)\n",
    "    \n",
    "    \n",
    "with tf.Session() as sess2:\n",
    "    writer=tf.summary.FileWriter(\"/tmp/tboard/ans\",sess2.graph)\n",
    "    print(sess2.run(n))\n",
    "    writer.close()\n",
    "    \n",
    "    \n",
    "    \n",
    "##part 2------\n",
    "##-1:-plotting graph between actual and predicted values of y\n",
    "\n",
    "sess = tf.Session()\n",
    "e=tf.constant(\"Actual values of Y:\")\n",
    "f=tf.constant(\"Predicted values of Y:\")\n",
    "eqn=tf.constant(\"Equation: y= mx+c\")\n",
    "var1=tf.multiply(m,a)\n",
    "var2=tf.add(var1,c)\n",
    "print(sess.run(e),sess.run(b))\n",
    "print(sess.run(f),sess.run(var2))\n",
    "##--------------graph of actual and predicted value of Y\n",
    "plt.plot(sess.run(b),sess.run(var2),label='graph')\n",
    "plt.legend()\n",
    "plt.show()\n",
    "\n",
    "\n",
    "#------------------------------------calculating root-mean-square-error------------------------------------------------\n",
    "rm=tf.constant(\"Root mean square error :\")\n",
    "rmse=tf.sqrt(tf.reduce_mean(tf.squared_difference(b,var2)))\n",
    "print(sess.run(rm),sess.run(rmse))"
   ]
  },
  {
   "cell_type": "code",
   "execution_count": null,
   "metadata": {
    "collapsed": true
   },
   "outputs": [],
   "source": [
    "\n",
    "\n"
   ]
  }
 ],
 "metadata": {
  "kernelspec": {
   "display_name": "Python 3",
   "language": "python",
   "name": "python3"
  },
  "language_info": {
   "codemirror_mode": {
    "name": "ipython",
    "version": 3
   },
   "file_extension": ".py",
   "mimetype": "text/x-python",
   "name": "python",
   "nbconvert_exporter": "python",
   "pygments_lexer": "ipython3",
   "version": "3.6.1"
  }
 },
 "nbformat": 4,
 "nbformat_minor": 2
}
