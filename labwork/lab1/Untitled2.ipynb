{
 "cells": [
  {
   "cell_type": "code",
   "execution_count": 2,
   "metadata": {},
   "outputs": [
    {
     "name": "stdout",
     "output_type": "stream",
     "text": [
      "9\n"
     ]
    }
   ],
   "source": [
    "# 1.(a-b)^2 = a^2 + b^2 - 2ab \n",
    "import tensorflow as tf\n",
    "a = tf.constant(5)\n",
    "b =tf.constant(2)\n",
    "with tf.name_scope(\"first\"):\n",
    "        x=tf.square(a,name=\"a_square\")\n",
    "with tf.name_scope(\"second\"):\n",
    "        y=tf.square(b,name=\"b_square\")\n",
    "with tf.name_scope(\"third\"):\n",
    "        z=tf.multiply(a,b, name=\"a_b_multiply\")\n",
    "        i=tf.multiply(2,z, name=\"2ab\")\n",
    "with tf.name_scope(\"fourth\"):\n",
    "        j=tf.add(x,y, name=\"a2_b2\")    \n",
    "with tf.name_scope(\"fifth\"):\n",
    "        k=tf.subtract(j,i, name=\"result\")     \n",
    "with tf.Session() as sess:\n",
    "    writer = tf.summary.FileWriter(\"/tmp/tboard/o2\", sess.graph)\n",
    "    print(sess.run(k))\n",
    "    writer.close()\n"
   ]
  },
  {
   "cell_type": "code",
   "execution_count": 3,
   "metadata": {},
   "outputs": [
    {
     "name": "stdout",
     "output_type": "stream",
     "text": [
      "343\n"
     ]
    }
   ],
   "source": [
    " # 2. (a+b)^3 = a^3 + b^3 + 3ab(a+b)\n",
    "import tensorflow as tf\n",
    "a= tf.constant(5)\n",
    "b=tf.constant(2)\n",
    "with tf.name_scope(\"scope_one\"):\n",
    "    c=tf.square(a,name = \"a_square\")\n",
    "    x=tf.multiply(c,a,name=\"a_cube\")\n",
    "with tf.name_scope(\"scope_two\"):\n",
    "    d=tf.square(b,name = \"a_square\")\n",
    "    y=tf.multiply(d,b,name = \"b_cube\")\n",
    "with tf.name_scope(\"scope_three\"):\n",
    "    z=tf.multiply(a,b, name=\"a_b_multiply\")\n",
    "    i=tf.multiply(3,z, name=\"3ab\")\n",
    "with tf.name_scope(\"scope_four\"):\n",
    "    j=tf.add(a,b, name=\"a_b\")  \n",
    "with tf.name_scope(\"scope_five\"):\n",
    "    k=tf.multiply(i,j,name=\"3ab_a_b\")\n",
    "with tf.name_scope(\"scope_six\"):\n",
    "    l=tf.add(x,y,name=\"a3_b3\")\n",
    "with tf.name_scope(\"scope_seven\"):\n",
    "    m=tf.add(l,k,name=\"result\")\n",
    "    \n",
    "with tf.Session() as sess:\n",
    "    writer = tf.summary.FileWriter(\"/tmp/tboard/o3\", sess.graph)\n",
    "    print(sess.run(m))\n",
    "    writer.close()\n"
   ]
  },
  {
   "cell_type": "code",
   "execution_count": null,
   "metadata": {
    "collapsed": true
   },
   "outputs": [],
   "source": []
  }
 ],
 "metadata": {
  "kernelspec": {
   "display_name": "Python 3",
   "language": "python",
   "name": "python3"
  },
  "language_info": {
   "codemirror_mode": {
    "name": "ipython",
    "version": 3
   },
   "file_extension": ".py",
   "mimetype": "text/x-python",
   "name": "python",
   "nbconvert_exporter": "python",
   "pygments_lexer": "ipython3",
   "version": "3.6.1"
  }
 },
 "nbformat": 4,
 "nbformat_minor": 2
}
