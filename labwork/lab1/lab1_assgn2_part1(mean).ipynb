{
 "cells": [
  {
   "cell_type": "code",
   "execution_count": 7,
   "metadata": {},
   "outputs": [
    {
     "data": {
      "text/plain": [
       "3.5"
      ]
     },
     "execution_count": 7,
     "metadata": {},
     "output_type": "execute_result"
    }
   ],
   "source": [
    "#mean of x\n",
    "import tensorflow as tf\n",
    "a= tf.constant([1.0, 2.0, 3.0, 4.0, 5.0, 6.0],name=\"array_a\")\n",
    "\n",
    "x=tf.reduce_mean(a)\n",
    "\n",
    "sesss=tf.Session()\n",
    "sesss.run(x)\n"
   ]
  },
  {
   "cell_type": "code",
   "execution_count": 8,
   "metadata": {},
   "outputs": [
    {
     "data": {
      "text/plain": [
       "3.5"
      ]
     },
     "execution_count": 8,
     "metadata": {},
     "output_type": "execute_result"
    }
   ],
   "source": [
    "#mean of y\n",
    "import tensorflow as tf\n",
    "b=tf.constant([1.0, 2.0, 3.0, 4.0, 5.0, 6.0],name=\"array_b\")\n",
    "y=tf.reduce_mean(b)\n",
    "sesss=tf.Session()\n",
    "sesss.run(y)"
   ]
  },
  {
   "cell_type": "code",
   "execution_count": 10,
   "metadata": {},
   "outputs": [
    {
     "data": {
      "text/plain": [
       "17.5"
      ]
     },
     "execution_count": 10,
     "metadata": {},
     "output_type": "execute_result"
    }
   ],
   "source": [
    "#variance of x\n",
    "import tensorflow as tf\n",
    "a= tf.constant([1.0, 2.0, 3.0, 4.0, 5.0, 6.0],name=\"array_a\")\n",
    "x=tf.reduce_mean(a)\n",
    "i=tf.subtract(a,x)\n",
    "j=tf.multiply(i,i)\n",
    "m=tf.reduce_mean(j)\n",
    "k=tf.multiply(m,6)\n",
    "sesss=tf.Session()\n",
    "sesss.run(k)"
   ]
  },
  {
   "cell_type": "code",
   "execution_count": 14,
   "metadata": {},
   "outputs": [
    {
     "data": {
      "text/plain": [
       "9.5"
      ]
     },
     "execution_count": 14,
     "metadata": {},
     "output_type": "execute_result"
    }
   ],
   "source": [
    "#covariance of x,y\n",
    "import tensorflow as tf\n",
    "a= tf.constant([1.0, 2.0, 3.0, 4.0, 5.0, 6.0],name=\"array_a\")\n",
    "b=tf.constant([3.0, 4.0, 5.0, 6.0, 5.0, 6.0],name=\"array_b\")\n",
    "x=tf.reduce_mean(a)\n",
    "y=tf.reduce_mean(b)\n",
    "i=tf.subtract(a,x)\n",
    "j=tf.subtract(b,y)\n",
    "k=tf.multiply(i,j)\n",
    "m=tf.reduce_mean(k)\n",
    "l=tf.multiply(m,6)\n",
    "sesss=tf.Session()\n",
    "sesss.run(l)"
   ]
  },
  {
   "cell_type": "code",
   "execution_count": 22,
   "metadata": {},
   "outputs": [
    {
     "data": {
      "text/plain": [
       "0.42857143"
      ]
     },
     "execution_count": 22,
     "metadata": {},
     "output_type": "execute_result"
    }
   ],
   "source": [
    "#value of c\n",
    "import tensorflow as tf\n",
    "a= tf.constant([1.0, 2.0, 3.0, 4.0, 5.0, 6.0],name=\"array_a\")\n",
    "b=tf.constant([7.0, 6.0, 5.0, 4.0, 8.0, 9.0],name=\"array_b\")\n",
    "#covariance of x,y\n",
    "x=tf.reduce_mean(a)\n",
    "y=tf.reduce_mean(b)\n",
    "i=tf.subtract(a,x)\n",
    "j=tf.subtract(b,y)\n",
    "k=tf.multiply(i,j)\n",
    "m=tf.reduce_mean(k)\n",
    "l=tf.multiply(m,6)  #covariance of x,y\n",
    "#variance of x\n",
    "g=tf.multiply(i,i)\n",
    "h=tf.reduce_mean(g)\n",
    "n=tf.multiply(h,6)   #variance of x\n",
    "#constant\n",
    "c=tf.divide(l,n)\n",
    "sesss=tf.Session()\n",
    "sesss.run(c)"
   ]
  },
  {
   "cell_type": "code",
   "execution_count": 2,
   "metadata": {},
   "outputs": [
    {
     "name": "stdout",
     "output_type": "stream",
     "text": [
      "17.5\n"
     ]
    }
   ],
   "source": [
    "#value of m\n",
    "import tensorflow as tf\n",
    "a= tf.constant([1.0, 2.0, 3.0, 4.0, 5.0, 6.0],name=\"array_a\")\n",
    "b=tf.constant([7.0, 6.0, 5.0, 4.0, 8.0, 9.0],name=\"array_b\")\n",
    "#covariance of x,y\n",
    "with tf.name_scope(\"mean\"):\n",
    "    x=tf.reduce_mean(a)\n",
    "    y=tf.reduce_mean(b)\n",
    "with tf.name_scope(\"covariance\"):\n",
    "    i=tf.subtract(a,x)\n",
    "    j=tf.subtract(b,y)\n",
    "    k=tf.multiply(i,j)\n",
    "    m=tf.reduce_mean(k)\n",
    "    l=tf.multiply(m,6)  #covariance of x,y\n",
    "with tf.name_scope(\"variance_of_x\"):\n",
    "#variance of x\n",
    "    g=tf.multiply(i,i)\n",
    "    h=tf.reduce_mean(g)\n",
    "    n=tf.multiply(h,6)   #variance of x\n",
    "\n",
    "with tf.name_scope(\"constant_value_c\"): \n",
    "    \n",
    "    c=tf.divide(l,n)\n",
    "    mul_a=tf.multiply(c,x)\n",
    "with tf.name_scope(\"constant_value_m\"):\n",
    "    \n",
    "    m_val=tf.subtract(y,mul_a)\n",
    "    \n",
    "    \n",
    "with tf.Session() as sess2:\n",
    "    writer=tf.summary.FileWriter(\"/tmp/tboard/o3\",sess2.graph)\n",
    "    print(sess2.run(n))\n",
    "    writer.close()"
   ]
  },
  {
   "cell_type": "code",
   "execution_count": null,
   "metadata": {
    "collapsed": true
   },
   "outputs": [],
   "source": []
  }
 ],
 "metadata": {
  "kernelspec": {
   "display_name": "Python 3",
   "language": "python",
   "name": "python3"
  },
  "language_info": {
   "codemirror_mode": {
    "name": "ipython",
    "version": 3
   },
   "file_extension": ".py",
   "mimetype": "text/x-python",
   "name": "python",
   "nbconvert_exporter": "python",
   "pygments_lexer": "ipython3",
   "version": "3.6.1"
  }
 },
 "nbformat": 4,
 "nbformat_minor": 2
}
